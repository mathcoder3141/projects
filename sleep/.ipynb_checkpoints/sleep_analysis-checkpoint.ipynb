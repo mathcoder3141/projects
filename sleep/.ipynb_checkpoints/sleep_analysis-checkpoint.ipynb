{
 "cells": [
  {
   "cell_type": "code",
   "execution_count": 1,
   "metadata": {},
   "outputs": [],
   "source": [
    "import pandas as pd\n",
    "import numpy as np\n",
    "import matplotlib.pyplot as plt\n",
    "\n",
    "plt.style.use('ggplot')\n",
    "pd.set_option('display.max_columns', 30)\n",
    "sleep = pd.read_csv('./sleeping-alone-data.csv')"
   ]
  },
  {
   "cell_type": "code",
   "execution_count": 2,
   "metadata": {},
   "outputs": [
    {
     "data": {
      "text/html": [
       "<div>\n",
       "<style scoped>\n",
       "    .dataframe tbody tr th:only-of-type {\n",
       "        vertical-align: middle;\n",
       "    }\n",
       "\n",
       "    .dataframe tbody tr th {\n",
       "        vertical-align: top;\n",
       "    }\n",
       "\n",
       "    .dataframe thead th {\n",
       "        text-align: right;\n",
       "    }\n",
       "</style>\n",
       "<table border=\"1\" class=\"dataframe\">\n",
       "  <thead>\n",
       "    <tr style=\"text-align: right;\">\n",
       "      <th></th>\n",
       "      <th>StartDate</th>\n",
       "      <th>EndDate</th>\n",
       "      <th>Which of the following best describes your current relationship status?</th>\n",
       "      <th>How long have you been in your current relationship? If you are not currently in a relationship, please answer according to your last relationship.</th>\n",
       "      <th>When both you and your partner are at home, how often do you sleep in separate beds?</th>\n",
       "      <th>When you're not sleeping in the same bed as your partner, where do you typically sleep?</th>\n",
       "      <th>Unnamed: 6</th>\n",
       "      <th>When you're not sleeping in the same bed, where does your partner typically sleep?</th>\n",
       "      <th>Unnamed: 8</th>\n",
       "      <th>What are the reasons that you sleep in separate beds? Please select all that apply.</th>\n",
       "      <th>Unnamed: 10</th>\n",
       "      <th>Unnamed: 11</th>\n",
       "      <th>Unnamed: 12</th>\n",
       "      <th>Unnamed: 13</th>\n",
       "      <th>Unnamed: 14</th>\n",
       "      <th>...</th>\n",
       "      <th>Unnamed: 16</th>\n",
       "      <th>Unnamed: 17</th>\n",
       "      <th>Unnamed: 18</th>\n",
       "      <th>Unnamed: 19</th>\n",
       "      <th>When was the first time you slept in separate beds?</th>\n",
       "      <th>To what extent do you agree with the following statement: \"sleeping in separate beds helps us to stay together.\"</th>\n",
       "      <th>To what extent do you agree with the following statement: \"we sleep better when we sleep in separate beds.\"</th>\n",
       "      <th>To what extent do you agree with the following statement: \"our sex life has improved as a result of sleeping in separate beds.\"</th>\n",
       "      <th>Which of the following best describes your current occupation?</th>\n",
       "      <th>Unnamed: 25</th>\n",
       "      <th>Gender</th>\n",
       "      <th>Age</th>\n",
       "      <th>Household Income</th>\n",
       "      <th>Education</th>\n",
       "      <th>Location (Census Region)</th>\n",
       "    </tr>\n",
       "  </thead>\n",
       "  <tbody>\n",
       "    <tr>\n",
       "      <th>0</th>\n",
       "      <td>NaN</td>\n",
       "      <td>NaN</td>\n",
       "      <td>Response</td>\n",
       "      <td>Response</td>\n",
       "      <td>Response</td>\n",
       "      <td>Response</td>\n",
       "      <td>Other (please specify)</td>\n",
       "      <td>Response</td>\n",
       "      <td>Other (please specify)</td>\n",
       "      <td>One of us snores</td>\n",
       "      <td>One of us makes frequent bathroom trips in the...</td>\n",
       "      <td>One of us is sick</td>\n",
       "      <td>We are no longer physically intimate</td>\n",
       "      <td>We have different temperature preferences for ...</td>\n",
       "      <td>We've had an argument or fight</td>\n",
       "      <td>...</td>\n",
       "      <td>Do not want to share the covers</td>\n",
       "      <td>One of us needs to sleep with a child</td>\n",
       "      <td>Night working/very different sleeping times</td>\n",
       "      <td>Other (please specify)</td>\n",
       "      <td>Response</td>\n",
       "      <td>Response</td>\n",
       "      <td>Response</td>\n",
       "      <td>Response</td>\n",
       "      <td>Response</td>\n",
       "      <td>Other (please specify)</td>\n",
       "      <td>Response</td>\n",
       "      <td>Response</td>\n",
       "      <td>Response</td>\n",
       "      <td>Response</td>\n",
       "      <td>Response</td>\n",
       "    </tr>\n",
       "    <tr>\n",
       "      <th>1</th>\n",
       "      <td>7/10/14 18:37</td>\n",
       "      <td>7/10/14 18:39</td>\n",
       "      <td>Single, but cohabiting with a significant other</td>\n",
       "      <td>1-5 years</td>\n",
       "      <td>Once a year or less</td>\n",
       "      <td>On the couch/chair</td>\n",
       "      <td>NaN</td>\n",
       "      <td>My partner sleeps in our shared bed, I'm the o...</td>\n",
       "      <td>NaN</td>\n",
       "      <td>NaN</td>\n",
       "      <td>NaN</td>\n",
       "      <td>One of us is sick</td>\n",
       "      <td>NaN</td>\n",
       "      <td>NaN</td>\n",
       "      <td>NaN</td>\n",
       "      <td>...</td>\n",
       "      <td>NaN</td>\n",
       "      <td>NaN</td>\n",
       "      <td>NaN</td>\n",
       "      <td>Other (please specify)</td>\n",
       "      <td>Within the first 1-5 years of our relationship</td>\n",
       "      <td>Strongly disagree</td>\n",
       "      <td>Somewhat agree</td>\n",
       "      <td>Strongly disagree</td>\n",
       "      <td>Other (please specify)</td>\n",
       "      <td>Student</td>\n",
       "      <td>Male</td>\n",
       "      <td>18-29</td>\n",
       "      <td>$0 - $24,999</td>\n",
       "      <td>Some college or Associate degree</td>\n",
       "      <td>Pacific</td>\n",
       "    </tr>\n",
       "    <tr>\n",
       "      <th>2</th>\n",
       "      <td>7/10/14 15:54</td>\n",
       "      <td>7/10/14 15:56</td>\n",
       "      <td>Single, but cohabiting with a significant other</td>\n",
       "      <td>1-5 years</td>\n",
       "      <td>A few times per month</td>\n",
       "      <td>I sleep in our shared bed, my partner is the o...</td>\n",
       "      <td>NaN</td>\n",
       "      <td>Separate bedroom</td>\n",
       "      <td>NaN</td>\n",
       "      <td>One of us snores</td>\n",
       "      <td>One of us makes frequent bathroom trips in the...</td>\n",
       "      <td>One of us is sick</td>\n",
       "      <td>NaN</td>\n",
       "      <td>NaN</td>\n",
       "      <td>We've had an argument or fight</td>\n",
       "      <td>...</td>\n",
       "      <td>Do not want to share the covers</td>\n",
       "      <td>NaN</td>\n",
       "      <td>NaN</td>\n",
       "      <td>NaN</td>\n",
       "      <td>Immediately/ We've always slept in separate beds</td>\n",
       "      <td>Somewhat agree</td>\n",
       "      <td>Strongly agree</td>\n",
       "      <td>Strongly disagree</td>\n",
       "      <td>Healthcare Support Occupations</td>\n",
       "      <td>NaN</td>\n",
       "      <td>Male</td>\n",
       "      <td>18-29</td>\n",
       "      <td>NaN</td>\n",
       "      <td>Bachelor degree</td>\n",
       "      <td>South Atlantic</td>\n",
       "    </tr>\n",
       "    <tr>\n",
       "      <th>3</th>\n",
       "      <td>7/10/14 15:44</td>\n",
       "      <td>7/10/14 15:49</td>\n",
       "      <td>Married</td>\n",
       "      <td>1-5 years</td>\n",
       "      <td>Never</td>\n",
       "      <td>NaN</td>\n",
       "      <td>NaN</td>\n",
       "      <td>NaN</td>\n",
       "      <td>NaN</td>\n",
       "      <td>NaN</td>\n",
       "      <td>NaN</td>\n",
       "      <td>NaN</td>\n",
       "      <td>NaN</td>\n",
       "      <td>NaN</td>\n",
       "      <td>NaN</td>\n",
       "      <td>...</td>\n",
       "      <td>NaN</td>\n",
       "      <td>NaN</td>\n",
       "      <td>NaN</td>\n",
       "      <td>NaN</td>\n",
       "      <td>NaN</td>\n",
       "      <td>NaN</td>\n",
       "      <td>NaN</td>\n",
       "      <td>NaN</td>\n",
       "      <td>Legal Occupations</td>\n",
       "      <td>NaN</td>\n",
       "      <td>Male</td>\n",
       "      <td>18-29</td>\n",
       "      <td>$150,000+</td>\n",
       "      <td>Graduate degree</td>\n",
       "      <td>South Atlantic</td>\n",
       "    </tr>\n",
       "    <tr>\n",
       "      <th>4</th>\n",
       "      <td>7/10/14 13:47</td>\n",
       "      <td>7/10/14 13:47</td>\n",
       "      <td>Married</td>\n",
       "      <td>1-5 years</td>\n",
       "      <td>Never</td>\n",
       "      <td>NaN</td>\n",
       "      <td>NaN</td>\n",
       "      <td>NaN</td>\n",
       "      <td>NaN</td>\n",
       "      <td>NaN</td>\n",
       "      <td>NaN</td>\n",
       "      <td>NaN</td>\n",
       "      <td>NaN</td>\n",
       "      <td>NaN</td>\n",
       "      <td>NaN</td>\n",
       "      <td>...</td>\n",
       "      <td>NaN</td>\n",
       "      <td>NaN</td>\n",
       "      <td>NaN</td>\n",
       "      <td>NaN</td>\n",
       "      <td>NaN</td>\n",
       "      <td>NaN</td>\n",
       "      <td>NaN</td>\n",
       "      <td>NaN</td>\n",
       "      <td>Life, Physical, and Social Science Occupations</td>\n",
       "      <td>NaN</td>\n",
       "      <td>Male</td>\n",
       "      <td>18-29</td>\n",
       "      <td>$25,000 - $49,999</td>\n",
       "      <td>Bachelor degree</td>\n",
       "      <td>Middle Atlantic</td>\n",
       "    </tr>\n",
       "  </tbody>\n",
       "</table>\n",
       "<p>5 rows × 31 columns</p>\n",
       "</div>"
      ],
      "text/plain": [
       "       StartDate        EndDate  \\\n",
       "0            NaN            NaN   \n",
       "1  7/10/14 18:37  7/10/14 18:39   \n",
       "2  7/10/14 15:54  7/10/14 15:56   \n",
       "3  7/10/14 15:44  7/10/14 15:49   \n",
       "4  7/10/14 13:47  7/10/14 13:47   \n",
       "\n",
       "  Which of the following best describes your current relationship status?  \\\n",
       "0                                           Response                        \n",
       "1    Single, but cohabiting with a significant other                        \n",
       "2    Single, but cohabiting with a significant other                        \n",
       "3                                            Married                        \n",
       "4                                            Married                        \n",
       "\n",
       "  How long have you been in your current relationship? If you are not currently in a relationship, please answer according to your last relationship.  \\\n",
       "0                                           Response                                                                                                    \n",
       "1                                          1-5 years                                                                                                    \n",
       "2                                          1-5 years                                                                                                    \n",
       "3                                          1-5 years                                                                                                    \n",
       "4                                          1-5 years                                                                                                    \n",
       "\n",
       "  When both you and your partner are at home, how often do you sleep in separate beds?  \\\n",
       "0                                           Response                                     \n",
       "1                                Once a year or less                                     \n",
       "2                              A few times per month                                     \n",
       "3                                              Never                                     \n",
       "4                                              Never                                     \n",
       "\n",
       "  When you're not sleeping in the same bed as your partner, where do you typically sleep?  \\\n",
       "0                                           Response                                        \n",
       "1                                 On the couch/chair                                        \n",
       "2  I sleep in our shared bed, my partner is the o...                                        \n",
       "3                                                NaN                                        \n",
       "4                                                NaN                                        \n",
       "\n",
       "               Unnamed: 6  \\\n",
       "0  Other (please specify)   \n",
       "1                     NaN   \n",
       "2                     NaN   \n",
       "3                     NaN   \n",
       "4                     NaN   \n",
       "\n",
       "  When you're not sleeping in the same bed, where does your partner typically sleep?  \\\n",
       "0                                           Response                                   \n",
       "1  My partner sleeps in our shared bed, I'm the o...                                   \n",
       "2                                   Separate bedroom                                   \n",
       "3                                                NaN                                   \n",
       "4                                                NaN                                   \n",
       "\n",
       "               Unnamed: 8  \\\n",
       "0  Other (please specify)   \n",
       "1                     NaN   \n",
       "2                     NaN   \n",
       "3                     NaN   \n",
       "4                     NaN   \n",
       "\n",
       "  What are the reasons that you sleep in separate beds? Please select all that apply.  \\\n",
       "0                                   One of us snores                                    \n",
       "1                                                NaN                                    \n",
       "2                                   One of us snores                                    \n",
       "3                                                NaN                                    \n",
       "4                                                NaN                                    \n",
       "\n",
       "                                         Unnamed: 10        Unnamed: 11  \\\n",
       "0  One of us makes frequent bathroom trips in the...  One of us is sick   \n",
       "1                                                NaN  One of us is sick   \n",
       "2  One of us makes frequent bathroom trips in the...  One of us is sick   \n",
       "3                                                NaN                NaN   \n",
       "4                                                NaN                NaN   \n",
       "\n",
       "                            Unnamed: 12  \\\n",
       "0  We are no longer physically intimate   \n",
       "1                                   NaN   \n",
       "2                                   NaN   \n",
       "3                                   NaN   \n",
       "4                                   NaN   \n",
       "\n",
       "                                         Unnamed: 13  \\\n",
       "0  We have different temperature preferences for ...   \n",
       "1                                                NaN   \n",
       "2                                                NaN   \n",
       "3                                                NaN   \n",
       "4                                                NaN   \n",
       "\n",
       "                      Unnamed: 14  ...                      Unnamed: 16  \\\n",
       "0  We've had an argument or fight  ...  Do not want to share the covers   \n",
       "1                             NaN  ...                              NaN   \n",
       "2  We've had an argument or fight  ...  Do not want to share the covers   \n",
       "3                             NaN  ...                              NaN   \n",
       "4                             NaN  ...                              NaN   \n",
       "\n",
       "                             Unnamed: 17  \\\n",
       "0  One of us needs to sleep with a child   \n",
       "1                                    NaN   \n",
       "2                                    NaN   \n",
       "3                                    NaN   \n",
       "4                                    NaN   \n",
       "\n",
       "                                   Unnamed: 18             Unnamed: 19  \\\n",
       "0  Night working/very different sleeping times  Other (please specify)   \n",
       "1                                          NaN  Other (please specify)   \n",
       "2                                          NaN                     NaN   \n",
       "3                                          NaN                     NaN   \n",
       "4                                          NaN                     NaN   \n",
       "\n",
       "  When was the first time you slept in separate beds?  \\\n",
       "0                                           Response    \n",
       "1     Within the first 1-5 years of our relationship    \n",
       "2   Immediately/ We've always slept in separate beds    \n",
       "3                                                NaN    \n",
       "4                                                NaN    \n",
       "\n",
       "  To what extent do you agree with the following statement: \"sleeping in separate beds helps us to stay together.\"  \\\n",
       "0                                           Response                                                                 \n",
       "1                                  Strongly disagree                                                                 \n",
       "2                                     Somewhat agree                                                                 \n",
       "3                                                NaN                                                                 \n",
       "4                                                NaN                                                                 \n",
       "\n",
       "  To what extent do you agree with the following statement: \"we sleep better when we sleep in separate beds.\"  \\\n",
       "0                                           Response                                                            \n",
       "1                                     Somewhat agree                                                            \n",
       "2                                     Strongly agree                                                            \n",
       "3                                                NaN                                                            \n",
       "4                                                NaN                                                            \n",
       "\n",
       "  To what extent do you agree with the following statement: \"our sex life has improved as a result of sleeping in separate beds.\"  \\\n",
       "0                                           Response                                                                                \n",
       "1                                  Strongly disagree                                                                                \n",
       "2                                  Strongly disagree                                                                                \n",
       "3                                                NaN                                                                                \n",
       "4                                                NaN                                                                                \n",
       "\n",
       "  Which of the following best describes your current occupation?  \\\n",
       "0                                           Response               \n",
       "1                             Other (please specify)               \n",
       "2                     Healthcare Support Occupations               \n",
       "3                                  Legal Occupations               \n",
       "4     Life, Physical, and Social Science Occupations               \n",
       "\n",
       "              Unnamed: 25    Gender       Age   Household Income  \\\n",
       "0  Other (please specify)  Response  Response           Response   \n",
       "1                 Student      Male     18-29       $0 - $24,999   \n",
       "2                     NaN      Male     18-29                NaN   \n",
       "3                     NaN      Male     18-29          $150,000+   \n",
       "4                     NaN      Male     18-29  $25,000 - $49,999   \n",
       "\n",
       "                          Education Location (Census Region)  \n",
       "0                          Response                 Response  \n",
       "1  Some college or Associate degree                  Pacific  \n",
       "2                   Bachelor degree           South Atlantic  \n",
       "3                   Graduate degree           South Atlantic  \n",
       "4                   Bachelor degree          Middle Atlantic  \n",
       "\n",
       "[5 rows x 31 columns]"
      ]
     },
     "execution_count": 2,
     "metadata": {},
     "output_type": "execute_result"
    }
   ],
   "source": [
    "sleep.head()"
   ]
  },
  {
   "cell_type": "markdown",
   "metadata": {},
   "source": [
    "It looks like the first row of data is nonsense. So let's go ahead and drop this row."
   ]
  },
  {
   "cell_type": "code",
   "execution_count": 3,
   "metadata": {},
   "outputs": [],
   "source": [
    "sleep = sleep.drop(sleep.index[0])"
   ]
  },
  {
   "cell_type": "markdown",
   "metadata": {},
   "source": [
    "# Breakdown of a respondant's current relationship status"
   ]
  },
  {
   "cell_type": "code",
   "execution_count": 4,
   "metadata": {},
   "outputs": [],
   "source": [
    "relationship = sleep[\"Which of the following best describes your current relationship status?\"].value_counts().reset_index(name='Responders')"
   ]
  },
  {
   "cell_type": "code",
   "execution_count": 5,
   "metadata": {},
   "outputs": [
    {
     "data": {
      "text/html": [
       "<div>\n",
       "<style scoped>\n",
       "    .dataframe tbody tr th:only-of-type {\n",
       "        vertical-align: middle;\n",
       "    }\n",
       "\n",
       "    .dataframe tbody tr th {\n",
       "        vertical-align: top;\n",
       "    }\n",
       "\n",
       "    .dataframe thead th {\n",
       "        text-align: right;\n",
       "    }\n",
       "</style>\n",
       "<table border=\"1\" class=\"dataframe\">\n",
       "  <thead>\n",
       "    <tr style=\"text-align: right;\">\n",
       "      <th></th>\n",
       "      <th>index</th>\n",
       "      <th>Responders</th>\n",
       "    </tr>\n",
       "  </thead>\n",
       "  <tbody>\n",
       "    <tr>\n",
       "      <th>0</th>\n",
       "      <td>Married</td>\n",
       "      <td>884</td>\n",
       "    </tr>\n",
       "    <tr>\n",
       "      <th>1</th>\n",
       "      <td>Single, but cohabiting with a significant other</td>\n",
       "      <td>138</td>\n",
       "    </tr>\n",
       "    <tr>\n",
       "      <th>2</th>\n",
       "      <td>In a domestic partnership or civil union</td>\n",
       "      <td>48</td>\n",
       "    </tr>\n",
       "    <tr>\n",
       "      <th>3</th>\n",
       "      <td>Divorced</td>\n",
       "      <td>12</td>\n",
       "    </tr>\n",
       "    <tr>\n",
       "      <th>4</th>\n",
       "      <td>Separated</td>\n",
       "      <td>8</td>\n",
       "    </tr>\n",
       "    <tr>\n",
       "      <th>5</th>\n",
       "      <td>Widowed</td>\n",
       "      <td>3</td>\n",
       "    </tr>\n",
       "  </tbody>\n",
       "</table>\n",
       "</div>"
      ],
      "text/plain": [
       "                                             index  Responders\n",
       "0                                          Married         884\n",
       "1  Single, but cohabiting with a significant other         138\n",
       "2         In a domestic partnership or civil union          48\n",
       "3                                         Divorced          12\n",
       "4                                        Separated           8\n",
       "5                                          Widowed           3"
      ]
     },
     "execution_count": 5,
     "metadata": {},
     "output_type": "execute_result"
    }
   ],
   "source": [
    "relationship"
   ]
  },
  {
   "cell_type": "code",
   "execution_count": 18,
   "metadata": {},
   "outputs": [
    {
     "data": {
      "image/png": "[encoded data removed]",
      "text/plain": [
       "<matplotlib.figure.Figure at 0x7ff6b9c15668>"
      ]
     },
     "metadata": {},
     "output_type": "display_data"
    }
   ],
   "source": [
    "status = [x for x in relationship['index']]\n",
    "\n",
    "plt.barh(relationship['index'], relationship['Responders'])\n",
    "plt.xlabel(\"Number of People\")\n",
    "plt.ylabel(\"Relationship status\")\n",
    "plt.title(\"Current Reelationship Status\")\n",
    "plt.xlim(0, 885)\n",
    "plt.show()"
   ]
  },
  {
   "cell_type": "markdown",
   "metadata": {},
   "source": [
    "# What's the longest and shortest time range for each unique relationsip status?"
   ]
  },
  {
   "cell_type": "code",
   "execution_count": 17,
   "metadata": {},
   "outputs": [
    {
     "data": {
      "image/png": "[encoded data removed]",
      "text/plain": [
       "<matplotlib.figure.Figure at 0x7ff6b9dd3ef0>"
      ]
     },
     "metadata": {},
     "output_type": "display_data"
    },
    {
     "data": {
      "image/png": "[encoded data removed]",
      "text/plain": [
       "<matplotlib.figure.Figure at 0x7ff6c4130d30>"
      ]
     },
     "metadata": {},
     "output_type": "display_data"
    },
    {
     "data": {
      "image/png": "[encoded data removed]",
      "text/plain": [
       "<matplotlib.figure.Figure at 0x7ff6c4120198>"
      ]
     },
     "metadata": {},
     "output_type": "display_data"
    },
    {
     "data": {
      "image/png": "[encoded data removed]",
      "text/plain": [
       "<matplotlib.figure.Figure at 0x7ff6b9d76f60>"
      ]
     },
     "metadata": {},
     "output_type": "display_data"
    },
    {
     "data": {
      "image/png": "[encoded data removed]",
      "text/plain": [
       "<matplotlib.figure.Figure at 0x7ff6b9c5d7b8>"
      ]
     },
     "metadata": {},
     "output_type": "display_data"
    },
    {
     "data": {
      "image/png": "[encoded data removed]",
      "text/plain": [
       "<matplotlib.figure.Figure at 0x7ff6b9c484e0>"
      ]
     },
     "metadata": {},
     "output_type": "display_data"
    }
   ],
   "source": [
    "for status in sleep['Which of the following best describes your current relationship status?'].unique():\n",
    "    df = sleep[sleep['Which of the following best describes your current relationship status?'] == status]\n",
    "    vcdf = df['How long have you been in your current relationship? If you are not currently in a relationship, please answer according to your last relationship.'].value_counts(normalize=True).reset_index(name='percent')\n",
    "    plt.title(\"Relationship status: {}\\n n = {}\".format(status, df.shape[0]))\n",
    "    plt.xlabel('Percent')\n",
    "    plt.ylabel('Length of time')\n",
    "    plt.barh(vcdf['index'], vcdf['percent'] * 100)\n",
    "    plt.show()"
   ]
  },
  {
   "cell_type": "markdown",
   "metadata": {},
   "source": [
    "# What's the distribution of those who sleep in separate beds when both are at home?"
   ]
  },
  {
   "cell_type": "code",
   "execution_count": 8,
   "metadata": {},
   "outputs": [
    {
     "data": {
      "text/plain": [
       "Never                    0.543095\n",
       "Every night              0.136237\n",
       "Once a year or less      0.126969\n",
       "Once a month or less     0.093605\n",
       "A few times per month    0.057461\n",
       "A few times per week     0.042632\n",
       "Name: When both you and your partner are at home, how often do you sleep in separate beds?, dtype: float64"
      ]
     },
     "execution_count": 8,
     "metadata": {},
     "output_type": "execute_result"
    }
   ],
   "source": [
    "sleep[\"When both you and your partner are at home, how often do you sleep in separate beds?\"].value_counts(normalize=True)"
   ]
  },
  {
   "cell_type": "code",
   "execution_count": 9,
   "metadata": {},
   "outputs": [
    {
     "name": "stdout",
     "output_type": "stream",
     "text": [
      "Looking at age range: 18-29\n",
      "Never                    0.631148\n",
      "Once a month or less     0.147541\n",
      "Once a year or less      0.122951\n",
      "Every night              0.049180\n",
      "A few times per month    0.032787\n",
      "A few times per week     0.016393\n",
      "Name: When both you and your partner are at home, how often do you sleep in separate beds?, dtype: float64\n",
      "Looking at age range: nan\n",
      "Series([], Name: When both you and your partner are at home, how often do you sleep in separate beds?, dtype: float64)\n",
      "Looking at age range: 45-60\n",
      "Never                    0.528846\n",
      "Every night              0.141026\n",
      "Once a year or less      0.137821\n",
      "Once a month or less     0.092949\n",
      "A few times per month    0.060897\n",
      "A few times per week     0.038462\n",
      "Name: When both you and your partner are at home, how often do you sleep in separate beds?, dtype: float64\n",
      "Looking at age range: > 60\n",
      "Never                    0.547703\n",
      "Every night              0.215548\n",
      "Once a year or less      0.116608\n",
      "Once a month or less     0.045936\n",
      "A few times per month    0.042403\n",
      "A few times per week     0.031802\n",
      "Name: When both you and your partner are at home, how often do you sleep in separate beds?, dtype: float64\n",
      "Looking at age range: 30-44\n",
      "Never                    0.493056\n",
      "Once a year or less      0.138889\n",
      "Once a month or less     0.125000\n",
      "Every night              0.090278\n",
      "A few times per month    0.079861\n",
      "A few times per week     0.072917\n",
      "Name: When both you and your partner are at home, how often do you sleep in separate beds?, dtype: float64\n"
     ]
    }
   ],
   "source": [
    "age_clean = sleep[sleep['Age'] != np.nan]\n",
    "for age in age_clean['Age'].unique():\n",
    "    print(\"Looking at age range: {}\".format(age))\n",
    "    df = age_clean[age_clean['Age'] == age]\n",
    "    print(df[\"When both you and your partner are at home, how often do you sleep in separate beds?\"].value_counts(normalize=True))"
   ]
  },
  {
   "cell_type": "markdown",
   "metadata": {},
   "source": [
    "# Do people tend to sleep in the different beds straight away?"
   ]
  },
  {
   "cell_type": "code",
   "execution_count": 10,
   "metadata": {},
   "outputs": [
    {
     "data": {
      "text/plain": [
       "Within the first 1-5 years of our relationship      203\n",
       "Within 6-10 years of our relationship                88\n",
       "After 20 years of our relationship                   79\n",
       "Within 11-15 years of our relationship               64\n",
       "Within 16-20 years of our relationship               29\n",
       "Immediately/ We've always slept in separate beds     19\n",
       "Name: When was the first time you slept in separate beds?, dtype: int64"
      ]
     },
     "execution_count": 10,
     "metadata": {},
     "output_type": "execute_result"
    }
   ],
   "source": [
    "sleep['When was the first time you slept in separate beds?'].value_counts()"
   ]
  },
  {
   "cell_type": "code",
   "execution_count": 11,
   "metadata": {},
   "outputs": [
    {
     "name": "stdout",
     "output_type": "stream",
     "text": [
      "Filtering for: Single, but cohabiting with a significant other\n",
      "Within the first 1-5 years of our relationship      42\n",
      "Immediately/ We've always slept in separate beds     4\n",
      "Within 6-10 years of our relationship                4\n",
      "Within 11-15 years of our relationship               4\n",
      "Within 16-20 years of our relationship               1\n",
      "After 20 years of our relationship                   1\n",
      "Name: When was the first time you slept in separate beds?, dtype: int64\n",
      "Filtering for: Married\n",
      "Within the first 1-5 years of our relationship      141\n",
      "After 20 years of our relationship                   77\n",
      "Within 6-10 years of our relationship                77\n",
      "Within 11-15 years of our relationship               59\n",
      "Within 16-20 years of our relationship               28\n",
      "Immediately/ We've always slept in separate beds     13\n",
      "Name: When was the first time you slept in separate beds?, dtype: int64\n",
      "Filtering for: In a domestic partnership or civil union\n",
      "Within the first 1-5 years of our relationship      13\n",
      "Within 6-10 years of our relationship                6\n",
      "Immediately/ We've always slept in separate beds     1\n",
      "Within 11-15 years of our relationship               1\n",
      "After 20 years of our relationship                   1\n",
      "Name: When was the first time you slept in separate beds?, dtype: int64\n",
      "Filtering for: Widowed\n",
      "Series([], Name: When was the first time you slept in separate beds?, dtype: int64)\n",
      "Filtering for: Separated\n",
      "Within the first 1-5 years of our relationship    3\n",
      "Within 6-10 years of our relationship             1\n",
      "Name: When was the first time you slept in separate beds?, dtype: int64\n",
      "Filtering for: Divorced\n",
      "Within the first 1-5 years of our relationship      4\n",
      "Immediately/ We've always slept in separate beds    1\n",
      "Name: When was the first time you slept in separate beds?, dtype: int64\n"
     ]
    }
   ],
   "source": [
    "for status in sleep['Which of the following best describes your current relationship status?'].unique():\n",
    "    print(\"Filtering for: {}\".format(status))\n",
    "    df = sleep[sleep['Which of the following best describes your current relationship status?'] == status]\n",
    "    print(df['When was the first time you slept in separate beds?'].value_counts())"
   ]
  },
  {
   "cell_type": "markdown",
   "metadata": {},
   "source": [
    "# What's the breakdown of the reasons people report as reasons they sleep in separate beds?"
   ]
  },
  {
   "cell_type": "code",
   "execution_count": 12,
   "metadata": {},
   "outputs": [],
   "source": [
    "reasons_cols = ['What are the reasons that you sleep in separate beds? Please select all that apply.',\n",
    "                'Unnamed: 10', 'Unnamed: 11', 'Unnamed: 12', 'Unnamed: 13', 'Unnamed: 14', 'Unnamed: 15', 'Unnamed: 16', 'Unnamed: 17', 'Unnamed: 18', 'Unnamed: 19']\n",
    "\n",
    "import pprint\n",
    "reasons = {}\n",
    "for col in reasons_cols:\n",
    "    for r in sleep[col]:\n",
    "        if r in (np.nan, 'Other (please specify)'):\n",
    "            pass\n",
    "        elif r in reasons:\n",
    "            reasons[r] += 1\n",
    "        else:\n",
    "            reasons[r] = 1"
   ]
  },
  {
   "cell_type": "code",
   "execution_count": 13,
   "metadata": {},
   "outputs": [
    {
     "name": "stdout",
     "output_type": "stream",
     "text": [
      "[('One of us snores', 220),\n",
      " ('One of us is sick', 126),\n",
      " ('Night working/very different sleeping times', 78),\n",
      " (\"We've had an argument or fight\", 74),\n",
      " ('One of us makes frequent bathroom trips in the night', 58),\n",
      " ('One of us needs to sleep with a child', 55),\n",
      " ('We have different temperature preferences for the room', 50),\n",
      " ('We are no longer physically intimate', 32),\n",
      " ('Not enough space', 25),\n",
      " ('Do not want to share the covers', 14)]\n"
     ]
    }
   ],
   "source": [
    "pprint.pprint(sorted(reasons.items(), key = lambda item: item[1], reverse=True))"
   ]
  },
  {
   "cell_type": "code",
   "execution_count": 14,
   "metadata": {},
   "outputs": [
    {
     "data": {
      "text/plain": [
       "{'One of us snores': 0.3005464480874317,\n",
       " 'One of us makes frequent bathroom trips in the night': 0.07923497267759563,\n",
       " 'One of us is sick': 0.1721311475409836,\n",
       " 'We are no longer physically intimate': 0.04371584699453552,\n",
       " 'We have different temperature preferences for the room': 0.06830601092896176,\n",
       " \"We've had an argument or fight\": 0.10109289617486339,\n",
       " 'Not enough space': 0.03415300546448088,\n",
       " 'Do not want to share the covers': 0.01912568306010929,\n",
       " 'One of us needs to sleep with a child': 0.07513661202185792,\n",
       " 'Night working/very different sleeping times': 0.10655737704918032}"
      ]
     },
     "execution_count": 14,
     "metadata": {},
     "output_type": "execute_result"
    }
   ],
   "source": [
    "def normalize(d, target=1.0):\n",
    "   raw = sum(d.values())\n",
    "   factor = target/raw\n",
    "   return {key:value*factor for key,value in d.items()}\n",
    "           \n",
    "normalize(reasons)"
   ]
  },
  {
   "cell_type": "code",
   "execution_count": 15,
   "metadata": {},
   "outputs": [
    {
     "data": {
      "text/plain": [
       "732"
      ]
     },
     "execution_count": 15,
     "metadata": {},
     "output_type": "execute_result"
    }
   ],
   "source": [
    "sum(reasons.values())"
   ]
  },
  {
   "cell_type": "raw",
   "metadata": {},
   "source": [
    "# Out of all responders, does sleeping in seperate beds help or hurt or relationships?"
   ]
  },
  {
   "cell_type": "markdown",
   "metadata": {},
   "source": [
    "# Does sleeping in seperate beds help couples sleep beter?"
   ]
  },
  {
   "cell_type": "markdown",
   "metadata": {},
   "source": [
    "# Does sex life improve as a result of sleeping in separate beds?"
   ]
  },
  {
   "cell_type": "markdown",
   "metadata": {},
   "source": [
    "# What's the breakdown of education by gender?"
   ]
  }
 ],
 "metadata": {
  "kernelspec": {
   "display_name": "Python 3",
   "language": "python",
   "name": "python3"
  },
  "language_info": {
   "codemirror_mode": {
    "name": "ipython",
    "version": 3
   },
   "file_extension": ".py",
   "mimetype": "text/x-python",
   "name": "python",
   "nbconvert_exporter": "python",
   "pygments_lexer": "ipython3",
   "version": "3.6.4"
  }
 },
 "nbformat": 4,
 "nbformat_minor": 2
}
